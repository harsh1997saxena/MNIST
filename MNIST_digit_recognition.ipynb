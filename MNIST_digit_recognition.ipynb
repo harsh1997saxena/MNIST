{
 "cells": [
  {
   "cell_type": "markdown",
   "metadata": {},
   "source": [
    "# Hand Written Digit Recognition on MNIST Dataset"
   ]
  },
  {
   "cell_type": "markdown",
   "metadata": {},
   "source": [
    "1. Import all dependencies required to read data, build model and train model"
   ]
  },
  {
   "cell_type": "code",
   "execution_count": 1,
   "metadata": {},
   "outputs": [
    {
     "name": "stderr",
     "output_type": "stream",
     "text": [
      "Using TensorFlow backend.\n"
     ]
    }
   ],
   "source": [
    "from keras.layers import Dense, Conv2D, BatchNormalization, Flatten, Dropout, MaxPooling2D #keras layers to build model\n",
    "import tensorflow as tf \n",
    "from keras.models import Sequential #for building sequential model\n",
    "import numpy as np\n",
    "import matplotlib.pyplot as plt #plotting library\n",
    "import pandas as pd #data structuring and analysing tool\n",
    "from keras.utils.np_utils import to_categorical\n",
    "from keras import regularizers\n",
    "from keras import optimizers"
   ]
  },
  {
   "cell_type": "markdown",
   "metadata": {},
   "source": [
    "2. Read train data and display head."
   ]
  },
  {
   "cell_type": "code",
   "execution_count": 2,
   "metadata": {},
   "outputs": [
    {
     "data": {
      "text/html": [
       "<div>\n",
       "<style scoped>\n",
       "    .dataframe tbody tr th:only-of-type {\n",
       "        vertical-align: middle;\n",
       "    }\n",
       "\n",
       "    .dataframe tbody tr th {\n",
       "        vertical-align: top;\n",
       "    }\n",
       "\n",
       "    .dataframe thead th {\n",
       "        text-align: right;\n",
       "    }\n",
       "</style>\n",
       "<table border=\"1\" class=\"dataframe\">\n",
       "  <thead>\n",
       "    <tr style=\"text-align: right;\">\n",
       "      <th></th>\n",
       "      <th>label</th>\n",
       "      <th>pixel0</th>\n",
       "      <th>pixel1</th>\n",
       "      <th>pixel2</th>\n",
       "      <th>pixel3</th>\n",
       "      <th>pixel4</th>\n",
       "      <th>pixel5</th>\n",
       "      <th>pixel6</th>\n",
       "      <th>pixel7</th>\n",
       "      <th>pixel8</th>\n",
       "      <th>...</th>\n",
       "      <th>pixel774</th>\n",
       "      <th>pixel775</th>\n",
       "      <th>pixel776</th>\n",
       "      <th>pixel777</th>\n",
       "      <th>pixel778</th>\n",
       "      <th>pixel779</th>\n",
       "      <th>pixel780</th>\n",
       "      <th>pixel781</th>\n",
       "      <th>pixel782</th>\n",
       "      <th>pixel783</th>\n",
       "    </tr>\n",
       "  </thead>\n",
       "  <tbody>\n",
       "    <tr>\n",
       "      <th>0</th>\n",
       "      <td>1</td>\n",
       "      <td>0</td>\n",
       "      <td>0</td>\n",
       "      <td>0</td>\n",
       "      <td>0</td>\n",
       "      <td>0</td>\n",
       "      <td>0</td>\n",
       "      <td>0</td>\n",
       "      <td>0</td>\n",
       "      <td>0</td>\n",
       "      <td>...</td>\n",
       "      <td>0</td>\n",
       "      <td>0</td>\n",
       "      <td>0</td>\n",
       "      <td>0</td>\n",
       "      <td>0</td>\n",
       "      <td>0</td>\n",
       "      <td>0</td>\n",
       "      <td>0</td>\n",
       "      <td>0</td>\n",
       "      <td>0</td>\n",
       "    </tr>\n",
       "    <tr>\n",
       "      <th>1</th>\n",
       "      <td>0</td>\n",
       "      <td>0</td>\n",
       "      <td>0</td>\n",
       "      <td>0</td>\n",
       "      <td>0</td>\n",
       "      <td>0</td>\n",
       "      <td>0</td>\n",
       "      <td>0</td>\n",
       "      <td>0</td>\n",
       "      <td>0</td>\n",
       "      <td>...</td>\n",
       "      <td>0</td>\n",
       "      <td>0</td>\n",
       "      <td>0</td>\n",
       "      <td>0</td>\n",
       "      <td>0</td>\n",
       "      <td>0</td>\n",
       "      <td>0</td>\n",
       "      <td>0</td>\n",
       "      <td>0</td>\n",
       "      <td>0</td>\n",
       "    </tr>\n",
       "    <tr>\n",
       "      <th>2</th>\n",
       "      <td>1</td>\n",
       "      <td>0</td>\n",
       "      <td>0</td>\n",
       "      <td>0</td>\n",
       "      <td>0</td>\n",
       "      <td>0</td>\n",
       "      <td>0</td>\n",
       "      <td>0</td>\n",
       "      <td>0</td>\n",
       "      <td>0</td>\n",
       "      <td>...</td>\n",
       "      <td>0</td>\n",
       "      <td>0</td>\n",
       "      <td>0</td>\n",
       "      <td>0</td>\n",
       "      <td>0</td>\n",
       "      <td>0</td>\n",
       "      <td>0</td>\n",
       "      <td>0</td>\n",
       "      <td>0</td>\n",
       "      <td>0</td>\n",
       "    </tr>\n",
       "    <tr>\n",
       "      <th>3</th>\n",
       "      <td>4</td>\n",
       "      <td>0</td>\n",
       "      <td>0</td>\n",
       "      <td>0</td>\n",
       "      <td>0</td>\n",
       "      <td>0</td>\n",
       "      <td>0</td>\n",
       "      <td>0</td>\n",
       "      <td>0</td>\n",
       "      <td>0</td>\n",
       "      <td>...</td>\n",
       "      <td>0</td>\n",
       "      <td>0</td>\n",
       "      <td>0</td>\n",
       "      <td>0</td>\n",
       "      <td>0</td>\n",
       "      <td>0</td>\n",
       "      <td>0</td>\n",
       "      <td>0</td>\n",
       "      <td>0</td>\n",
       "      <td>0</td>\n",
       "    </tr>\n",
       "    <tr>\n",
       "      <th>4</th>\n",
       "      <td>0</td>\n",
       "      <td>0</td>\n",
       "      <td>0</td>\n",
       "      <td>0</td>\n",
       "      <td>0</td>\n",
       "      <td>0</td>\n",
       "      <td>0</td>\n",
       "      <td>0</td>\n",
       "      <td>0</td>\n",
       "      <td>0</td>\n",
       "      <td>...</td>\n",
       "      <td>0</td>\n",
       "      <td>0</td>\n",
       "      <td>0</td>\n",
       "      <td>0</td>\n",
       "      <td>0</td>\n",
       "      <td>0</td>\n",
       "      <td>0</td>\n",
       "      <td>0</td>\n",
       "      <td>0</td>\n",
       "      <td>0</td>\n",
       "    </tr>\n",
       "  </tbody>\n",
       "</table>\n",
       "<p>5 rows × 785 columns</p>\n",
       "</div>"
      ],
      "text/plain": [
       "   label  pixel0  pixel1  pixel2  pixel3  pixel4  pixel5  pixel6  pixel7  \\\n",
       "0      1       0       0       0       0       0       0       0       0   \n",
       "1      0       0       0       0       0       0       0       0       0   \n",
       "2      1       0       0       0       0       0       0       0       0   \n",
       "3      4       0       0       0       0       0       0       0       0   \n",
       "4      0       0       0       0       0       0       0       0       0   \n",
       "\n",
       "   pixel8  ...  pixel774  pixel775  pixel776  pixel777  pixel778  pixel779  \\\n",
       "0       0  ...         0         0         0         0         0         0   \n",
       "1       0  ...         0         0         0         0         0         0   \n",
       "2       0  ...         0         0         0         0         0         0   \n",
       "3       0  ...         0         0         0         0         0         0   \n",
       "4       0  ...         0         0         0         0         0         0   \n",
       "\n",
       "   pixel780  pixel781  pixel782  pixel783  \n",
       "0         0         0         0         0  \n",
       "1         0         0         0         0  \n",
       "2         0         0         0         0  \n",
       "3         0         0         0         0  \n",
       "4         0         0         0         0  \n",
       "\n",
       "[5 rows x 785 columns]"
      ]
     },
     "execution_count": 2,
     "metadata": {},
     "output_type": "execute_result"
    }
   ],
   "source": [
    "df = pd.read_csv('train.csv') # replace 'train.csv' with location of training data.\n",
    "df.head()\n",
    "# MNIST data is also available in keras.datasets, in that case step 3 would not be required. Just change variable name in below code.\n",
    "\n",
    "#from keras.datasets import mnist\n",
    "#(x_train, y_train), (x_test, y_test) = mnist.load_data()"
   ]
  },
  {
   "cell_type": "markdown",
   "metadata": {},
   "source": [
    "3. Store dataframe without label columns in X and labels in Y."
   ]
  },
  {
   "cell_type": "code",
   "execution_count": 3,
   "metadata": {},
   "outputs": [],
   "source": [
    "X = df.drop('label',1)\n",
    "Y = df.label"
   ]
  },
  {
   "cell_type": "code",
   "execution_count": 4,
   "metadata": {},
   "outputs": [],
   "source": [
    "m = X.shape[0] #number of samples in data\n",
    "dim = int(np.sqrt(X.shape[1])) #dimensions of input image (28,28,1) for MNIST.\n",
    "num_classes = 10"
   ]
  },
  {
   "cell_type": "markdown",
   "metadata": {},
   "source": [
    "4. Preprocessing data "
   ]
  },
  {
   "cell_type": "code",
   "execution_count": 5,
   "metadata": {},
   "outputs": [],
   "source": [
    "X = np.array(X) # Converting to numpy array.\n",
    "Y = np.array(Y) # Converting to numpy array.\n",
    "Y = to_categorical(Y,10) # Converting labels to one hot.\n",
    "X = X.reshape(m,dim,dim,1)"
   ]
  },
  {
   "cell_type": "code",
   "execution_count": 6,
   "metadata": {},
   "outputs": [],
   "source": [
    "# Function to normalize input data. Making mean 0 and std 1.\n",
    "def normalize(X):\n",
    "    mean = np.mean(X,axis=(0,1,2,3))\n",
    "    std = np.std(X, axis=(0,1,2,3))\n",
    "    X = (X-mean)/(std + 1e-7)\n",
    "    return X"
   ]
  },
  {
   "cell_type": "code",
   "execution_count": 7,
   "metadata": {},
   "outputs": [],
   "source": [
    "X_norm = normalize(X) # Normalize X."
   ]
  },
  {
   "cell_type": "code",
   "execution_count": 8,
   "metadata": {},
   "outputs": [
    {
     "data": {
      "image/png": "[encoded data removed]",
      "text/plain": [
       "<Figure size 432x288 with 1 Axes>"
      ]
     },
     "metadata": {
      "needs_background": "light"
     },
     "output_type": "display_data"
    }
   ],
   "source": [
    "# Displaying one sample from nput data\n",
    "mth = 10\n",
    "plt.imshow(X_norm[mth].reshape(dim,dim))\n",
    "plt.show()"
   ]
  },
  {
   "cell_type": "markdown",
   "metadata": {},
   "source": [
    "5. Build Sequential model."
   ]
  },
  {
   "cell_type": "code",
   "execution_count": 9,
   "metadata": {},
   "outputs": [
    {
     "name": "stdout",
     "output_type": "stream",
     "text": [
      "WARNING:tensorflow:From C:\\Users\\acer\\Anaconda3\\envs\\tensorflow_gpuenv\\lib\\site-packages\\keras\\backend\\tensorflow_backend.py:74: The name tf.get_default_graph is deprecated. Please use tf.compat.v1.get_default_graph instead.\n",
      "\n",
      "WARNING:tensorflow:From C:\\Users\\acer\\Anaconda3\\envs\\tensorflow_gpuenv\\lib\\site-packages\\keras\\backend\\tensorflow_backend.py:517: The name tf.placeholder is deprecated. Please use tf.compat.v1.placeholder instead.\n",
      "\n",
      "WARNING:tensorflow:From C:\\Users\\acer\\Anaconda3\\envs\\tensorflow_gpuenv\\lib\\site-packages\\keras\\backend\\tensorflow_backend.py:4138: The name tf.random_uniform is deprecated. Please use tf.random.uniform instead.\n",
      "\n",
      "WARNING:tensorflow:From C:\\Users\\acer\\Anaconda3\\envs\\tensorflow_gpuenv\\lib\\site-packages\\keras\\backend\\tensorflow_backend.py:3976: The name tf.nn.max_pool is deprecated. Please use tf.nn.max_pool2d instead.\n",
      "\n",
      "WARNING:tensorflow:From C:\\Users\\acer\\Anaconda3\\envs\\tensorflow_gpuenv\\lib\\site-packages\\keras\\backend\\tensorflow_backend.py:133: The name tf.placeholder_with_default is deprecated. Please use tf.compat.v1.placeholder_with_default instead.\n",
      "\n",
      "WARNING:tensorflow:From C:\\Users\\acer\\Anaconda3\\envs\\tensorflow_gpuenv\\lib\\site-packages\\keras\\backend\\tensorflow_backend.py:3445: calling dropout (from tensorflow.python.ops.nn_ops) with keep_prob is deprecated and will be removed in a future version.\n",
      "Instructions for updating:\n",
      "Please use `rate` instead of `keep_prob`. Rate should be set to `rate = 1 - keep_prob`.\n"
     ]
    }
   ],
   "source": [
    "model = Sequential()\n",
    "\n",
    "model.add(Conv2D(64, (3,3), padding = 'same',input_shape = (dim, dim, 1), activation = 'relu')) # Convolution layer for featuer extraction.\n",
    "model.add(MaxPooling2D(2,2)) # Pooling layer for downsampling features.\n",
    "model.add(Conv2D(64, (3,3), padding = 'same',activation = 'relu'))\n",
    "model.add(MaxPooling2D(2,2))\n",
    "model.add(Dropout(0.2)) # Dropout layer to reduce overfitting.\n",
    "model.add(Conv2D(128, (3,3), padding = 'same',activation = 'relu'))\n",
    "model.add(MaxPooling2D(2,2))\n",
    "model.add(Dropout(0.3))\n",
    "model.add(Flatten()) # Flatting data from (m,h,w,c) to (m,h*w*c)\n",
    "model.add(Dense(256, activation = 'relu')) # Dense layer\n",
    "model.add(Dropout(0.4))\n",
    "model.add(Dense(num_classes, activation = 'softmax')) # Output dense layer with softmax activtion for multiclass classification."
   ]
  },
  {
   "cell_type": "code",
   "execution_count": 10,
   "metadata": {},
   "outputs": [
    {
     "name": "stdout",
     "output_type": "stream",
     "text": [
      "_________________________________________________________________\n",
      "Layer (type)                 Output Shape              Param #   \n",
      "=================================================================\n",
      "conv2d_1 (Conv2D)            (None, 28, 28, 64)        640       \n",
      "_________________________________________________________________\n",
      "max_pooling2d_1 (MaxPooling2 (None, 14, 14, 64)        0         \n",
      "_________________________________________________________________\n",
      "conv2d_2 (Conv2D)            (None, 14, 14, 64)        36928     \n",
      "_________________________________________________________________\n",
      "max_pooling2d_2 (MaxPooling2 (None, 7, 7, 64)          0         \n",
      "_________________________________________________________________\n",
      "dropout_1 (Dropout)          (None, 7, 7, 64)          0         \n",
      "_________________________________________________________________\n",
      "conv2d_3 (Conv2D)            (None, 7, 7, 128)         73856     \n",
      "_________________________________________________________________\n",
      "max_pooling2d_3 (MaxPooling2 (None, 3, 3, 128)         0         \n",
      "_________________________________________________________________\n",
      "dropout_2 (Dropout)          (None, 3, 3, 128)         0         \n",
      "_________________________________________________________________\n",
      "flatten_1 (Flatten)          (None, 1152)              0         \n",
      "_________________________________________________________________\n",
      "dense_1 (Dense)              (None, 256)               295168    \n",
      "_________________________________________________________________\n",
      "dropout_3 (Dropout)          (None, 256)               0         \n",
      "_________________________________________________________________\n",
      "dense_2 (Dense)              (None, 10)                2570      \n",
      "=================================================================\n",
      "Total params: 409,162\n",
      "Trainable params: 409,162\n",
      "Non-trainable params: 0\n",
      "_________________________________________________________________\n"
     ]
    }
   ],
   "source": [
    "model.summary()"
   ]
  },
  {
   "cell_type": "markdown",
   "metadata": {},
   "source": [
    "6. Compile Model with loss function and optimizer."
   ]
  },
  {
   "cell_type": "code",
   "execution_count": 11,
   "metadata": {},
   "outputs": [
    {
     "name": "stdout",
     "output_type": "stream",
     "text": [
      "WARNING:tensorflow:From C:\\Users\\acer\\Anaconda3\\envs\\tensorflow_gpuenv\\lib\\site-packages\\keras\\optimizers.py:790: The name tf.train.Optimizer is deprecated. Please use tf.compat.v1.train.Optimizer instead.\n",
      "\n",
      "WARNING:tensorflow:From C:\\Users\\acer\\Anaconda3\\envs\\tensorflow_gpuenv\\lib\\site-packages\\keras\\backend\\tensorflow_backend.py:3295: The name tf.log is deprecated. Please use tf.math.log instead.\n",
      "\n"
     ]
    }
   ],
   "source": [
    "opt = optimizers.SGD(lr=0.01) # Optimizer (SGD (Stochastic Gradient Descent) used here)\n",
    "model.compile(loss = 'categorical_crossentropy', optimizer = opt, metrics = ['accuracy']) # loss is categorical crossentropy for multiclass"
   ]
  },
  {
   "cell_type": "markdown",
   "metadata": {},
   "source": [
    "7. Train model on data."
   ]
  },
  {
   "cell_type": "code",
   "execution_count": 12,
   "metadata": {},
   "outputs": [
    {
     "name": "stdout",
     "output_type": "stream",
     "text": [
      "WARNING:tensorflow:From C:\\Users\\acer\\Anaconda3\\envs\\tensorflow_gpuenv\\lib\\site-packages\\tensorflow\\python\\ops\\math_grad.py:1250: add_dispatch_support.<locals>.wrapper (from tensorflow.python.ops.array_ops) is deprecated and will be removed in a future version.\n",
      "Instructions for updating:\n",
      "Use tf.where in 2.0, which has the same broadcast rule as np.where\n",
      "Train on 29399 samples, validate on 12601 samples\n",
      "Epoch 1/70\n",
      "29399/29399 [==============================] - 11s 383us/step - loss: 0.9066 - acc: 0.6976 - val_loss: 0.1817 - val_acc: 0.9436\n",
      "Epoch 2/70\n",
      "29399/29399 [==============================] - 8s 280us/step - loss: 0.2488 - acc: 0.9222 - val_loss: 0.1183 - val_acc: 0.9648\n",
      "Epoch 3/70\n",
      "29399/29399 [==============================] - 8s 282us/step - loss: 0.1817 - acc: 0.9421 - val_loss: 0.0881 - val_acc: 0.9746\n",
      "Epoch 4/70\n",
      "29399/29399 [==============================] - 8s 280us/step - loss: 0.1460 - acc: 0.9546 - val_loss: 0.0745 - val_acc: 0.9763\n",
      "Epoch 5/70\n",
      "29399/29399 [==============================] - 8s 281us/step - loss: 0.1278 - acc: 0.9600 - val_loss: 0.0626 - val_acc: 0.9806\n",
      "Epoch 6/70\n",
      "29399/29399 [==============================] - 8s 281us/step - loss: 0.1101 - acc: 0.9668 - val_loss: 0.0551 - val_acc: 0.9825\n",
      "Epoch 7/70\n",
      "29399/29399 [==============================] - 8s 282us/step - loss: 0.0991 - acc: 0.9694 - val_loss: 0.0526 - val_acc: 0.9834\n",
      "Epoch 8/70\n",
      "29399/29399 [==============================] - 8s 283us/step - loss: 0.0903 - acc: 0.9718 - val_loss: 0.0502 - val_acc: 0.9838\n",
      "Epoch 9/70\n",
      "29399/29399 [==============================] - 8s 282us/step - loss: 0.0865 - acc: 0.9728 - val_loss: 0.0449 - val_acc: 0.9861\n",
      "Epoch 10/70\n",
      "29399/29399 [==============================] - 8s 284us/step - loss: 0.0798 - acc: 0.9749 - val_loss: 0.0476 - val_acc: 0.9859\n",
      "Epoch 11/70\n",
      "29399/29399 [==============================] - 8s 283us/step - loss: 0.0756 - acc: 0.9762 - val_loss: 0.0416 - val_acc: 0.9871\n",
      "Epoch 12/70\n",
      "29399/29399 [==============================] - 8s 282us/step - loss: 0.0697 - acc: 0.9785 - val_loss: 0.0396 - val_acc: 0.9874\n",
      "Epoch 13/70\n",
      "29399/29399 [==============================] - 8s 281us/step - loss: 0.0650 - acc: 0.9796 - val_loss: 0.0398 - val_acc: 0.9876\n",
      "Epoch 14/70\n",
      "29399/29399 [==============================] - 8s 283us/step - loss: 0.0623 - acc: 0.9799 - val_loss: 0.0361 - val_acc: 0.9884\n",
      "Epoch 15/70\n",
      "29399/29399 [==============================] - 8s 283us/step - loss: 0.0600 - acc: 0.9803 - val_loss: 0.0348 - val_acc: 0.9886\n",
      "Epoch 16/70\n",
      "29399/29399 [==============================] - 8s 282us/step - loss: 0.0571 - acc: 0.9824 - val_loss: 0.0351 - val_acc: 0.9890\n",
      "Epoch 17/70\n",
      "29399/29399 [==============================] - 8s 284us/step - loss: 0.0556 - acc: 0.9825 - val_loss: 0.0349 - val_acc: 0.9885\n",
      "Epoch 18/70\n",
      "29399/29399 [==============================] - 8s 283us/step - loss: 0.0544 - acc: 0.9828 - val_loss: 0.0346 - val_acc: 0.9892\n",
      "Epoch 19/70\n",
      "29399/29399 [==============================] - 8s 283us/step - loss: 0.0498 - acc: 0.9836 - val_loss: 0.0339 - val_acc: 0.9894\n",
      "Epoch 20/70\n",
      "29399/29399 [==============================] - 8s 284us/step - loss: 0.0490 - acc: 0.9847 - val_loss: 0.0336 - val_acc: 0.9897\n",
      "Epoch 21/70\n",
      "29399/29399 [==============================] - 8s 285us/step - loss: 0.0489 - acc: 0.9846 - val_loss: 0.0315 - val_acc: 0.9908\n",
      "Epoch 22/70\n",
      "29399/29399 [==============================] - 8s 286us/step - loss: 0.0450 - acc: 0.9862 - val_loss: 0.0314 - val_acc: 0.9910\n",
      "Epoch 23/70\n",
      "29399/29399 [==============================] - 10s 324us/step - loss: 0.0433 - acc: 0.9864 - val_loss: 0.0313 - val_acc: 0.9907\n",
      "Epoch 24/70\n",
      "29399/29399 [==============================] - 8s 284us/step - loss: 0.0407 - acc: 0.9873 - val_loss: 0.0307 - val_acc: 0.9902\n",
      "Epoch 25/70\n",
      "29399/29399 [==============================] - 8s 283us/step - loss: 0.0389 - acc: 0.9868 - val_loss: 0.0308 - val_acc: 0.9902\n",
      "Epoch 26/70\n",
      "29399/29399 [==============================] - 8s 284us/step - loss: 0.0393 - acc: 0.9878 - val_loss: 0.0311 - val_acc: 0.9902\n",
      "Epoch 27/70\n",
      "29399/29399 [==============================] - 8s 283us/step - loss: 0.0383 - acc: 0.9882 - val_loss: 0.0303 - val_acc: 0.9907\n",
      "Epoch 28/70\n",
      "29399/29399 [==============================] - 8s 286us/step - loss: 0.0365 - acc: 0.9885 - val_loss: 0.0305 - val_acc: 0.9906\n",
      "Epoch 29/70\n",
      "29399/29399 [==============================] - 8s 286us/step - loss: 0.0369 - acc: 0.9886 - val_loss: 0.0307 - val_acc: 0.9910\n",
      "Epoch 30/70\n",
      "29399/29399 [==============================] - 8s 280us/step - loss: 0.0362 - acc: 0.9887 - val_loss: 0.0287 - val_acc: 0.9912\n",
      "Epoch 31/70\n",
      "29399/29399 [==============================] - 8s 281us/step - loss: 0.0365 - acc: 0.9890 - val_loss: 0.0282 - val_acc: 0.9917\n",
      "Epoch 32/70\n",
      "29399/29399 [==============================] - 8s 282us/step - loss: 0.0337 - acc: 0.9889 - val_loss: 0.0288 - val_acc: 0.9915\n",
      "Epoch 33/70\n",
      "29399/29399 [==============================] - 8s 280us/step - loss: 0.0329 - acc: 0.9889 - val_loss: 0.0289 - val_acc: 0.9917\n",
      "Epoch 34/70\n",
      "29399/29399 [==============================] - 8s 281us/step - loss: 0.0325 - acc: 0.9899 - val_loss: 0.0286 - val_acc: 0.9916\n",
      "Epoch 35/70\n",
      "29399/29399 [==============================] - 8s 280us/step - loss: 0.0304 - acc: 0.9899 - val_loss: 0.0278 - val_acc: 0.9920\n",
      "Epoch 36/70\n",
      "29399/29399 [==============================] - 8s 280us/step - loss: 0.0304 - acc: 0.9905 - val_loss: 0.0281 - val_acc: 0.9915\n",
      "Epoch 37/70\n",
      "29399/29399 [==============================] - 8s 281us/step - loss: 0.0304 - acc: 0.9900 - val_loss: 0.0285 - val_acc: 0.9910\n",
      "Epoch 38/70\n",
      "29399/29399 [==============================] - 8s 280us/step - loss: 0.0300 - acc: 0.9903 - val_loss: 0.0274 - val_acc: 0.9916\n",
      "Epoch 39/70\n",
      "29399/29399 [==============================] - 8s 280us/step - loss: 0.0278 - acc: 0.9906 - val_loss: 0.0290 - val_acc: 0.9913\n",
      "Epoch 40/70\n",
      "29399/29399 [==============================] - 9s 291us/step - loss: 0.0302 - acc: 0.9898 - val_loss: 0.0279 - val_acc: 0.9916\n",
      "Epoch 41/70\n",
      "29399/29399 [==============================] - 9s 294us/step - loss: 0.0259 - acc: 0.9919 - val_loss: 0.0273 - val_acc: 0.9915\n",
      "Epoch 42/70\n",
      "29399/29399 [==============================] - 9s 293us/step - loss: 0.0270 - acc: 0.9913 - val_loss: 0.0289 - val_acc: 0.9917\n",
      "Epoch 43/70\n",
      "29399/29399 [==============================] - 9s 294us/step - loss: 0.0259 - acc: 0.9916 - val_loss: 0.0273 - val_acc: 0.9921\n",
      "Epoch 44/70\n",
      "29399/29399 [==============================] - 9s 294us/step - loss: 0.0256 - acc: 0.9921 - val_loss: 0.0274 - val_acc: 0.9918\n",
      "Epoch 45/70\n",
      "29399/29399 [==============================] - 9s 293us/step - loss: 0.0259 - acc: 0.9916 - val_loss: 0.0281 - val_acc: 0.9919\n",
      "Epoch 46/70\n",
      "29399/29399 [==============================] - 9s 293us/step - loss: 0.0238 - acc: 0.9918 - val_loss: 0.0280 - val_acc: 0.9925\n",
      "Epoch 47/70\n",
      "29399/29399 [==============================] - 9s 292us/step - loss: 0.0243 - acc: 0.9922 - val_loss: 0.0264 - val_acc: 0.9921\n",
      "Epoch 48/70\n",
      "29399/29399 [==============================] - 9s 292us/step - loss: 0.0251 - acc: 0.9916 - val_loss: 0.0268 - val_acc: 0.9921\n",
      "Epoch 49/70\n",
      "29399/29399 [==============================] - 9s 293us/step - loss: 0.0243 - acc: 0.9916 - val_loss: 0.0270 - val_acc: 0.9925\n",
      "Epoch 50/70\n",
      "29399/29399 [==============================] - 9s 293us/step - loss: 0.0236 - acc: 0.9929 - val_loss: 0.0296 - val_acc: 0.9911\n",
      "Epoch 51/70\n",
      "29399/29399 [==============================] - 8s 281us/step - loss: 0.0239 - acc: 0.9923 - val_loss: 0.0260 - val_acc: 0.9926\n",
      "Epoch 52/70\n",
      "29399/29399 [==============================] - 8s 280us/step - loss: 0.0235 - acc: 0.9924 - val_loss: 0.0264 - val_acc: 0.9928\n",
      "Epoch 53/70\n",
      "29399/29399 [==============================] - 8s 280us/step - loss: 0.0227 - acc: 0.9922 - val_loss: 0.0261 - val_acc: 0.9922\n",
      "Epoch 54/70\n",
      "29399/29399 [==============================] - 8s 280us/step - loss: 0.0223 - acc: 0.9924 - val_loss: 0.0254 - val_acc: 0.9925\n",
      "Epoch 55/70\n",
      "29399/29399 [==============================] - 8s 282us/step - loss: 0.0193 - acc: 0.9937 - val_loss: 0.0273 - val_acc: 0.9919\n",
      "Epoch 56/70\n",
      "29399/29399 [==============================] - 8s 282us/step - loss: 0.0211 - acc: 0.9928 - val_loss: 0.0269 - val_acc: 0.9921\n",
      "Epoch 57/70\n"
     ]
    },
    {
     "name": "stdout",
     "output_type": "stream",
     "text": [
      "29399/29399 [==============================] - 8s 282us/step - loss: 0.0214 - acc: 0.9932 - val_loss: 0.0267 - val_acc: 0.9925\n",
      "Epoch 58/70\n",
      "29399/29399 [==============================] - 8s 279us/step - loss: 0.0189 - acc: 0.9942 - val_loss: 0.0269 - val_acc: 0.9920\n",
      "Epoch 59/70\n",
      "29399/29399 [==============================] - 8s 278us/step - loss: 0.0204 - acc: 0.9931 - val_loss: 0.0269 - val_acc: 0.9918\n",
      "Epoch 60/70\n",
      "29399/29399 [==============================] - 10s 324us/step - loss: 0.0204 - acc: 0.9930 - val_loss: 0.0268 - val_acc: 0.9919\n",
      "Epoch 61/70\n",
      "29399/29399 [==============================] - 8s 278us/step - loss: 0.0194 - acc: 0.9936 - val_loss: 0.0264 - val_acc: 0.9921\n",
      "Epoch 62/70\n",
      "29399/29399 [==============================] - 8s 278us/step - loss: 0.0180 - acc: 0.9944 - val_loss: 0.0259 - val_acc: 0.9922\n",
      "Epoch 63/70\n",
      "29399/29399 [==============================] - 8s 279us/step - loss: 0.0180 - acc: 0.9940 - val_loss: 0.0253 - val_acc: 0.9924\n",
      "Epoch 64/70\n",
      "29399/29399 [==============================] - 8s 280us/step - loss: 0.0180 - acc: 0.9939 - val_loss: 0.0280 - val_acc: 0.9921\n",
      "Epoch 65/70\n",
      "29399/29399 [==============================] - 8s 279us/step - loss: 0.0195 - acc: 0.9939 - val_loss: 0.0256 - val_acc: 0.9925\n",
      "Epoch 66/70\n",
      "29399/29399 [==============================] - 8s 281us/step - loss: 0.0176 - acc: 0.9939 - val_loss: 0.0260 - val_acc: 0.9927\n",
      "Epoch 67/70\n",
      "29399/29399 [==============================] - 8s 279us/step - loss: 0.0174 - acc: 0.9939 - val_loss: 0.0279 - val_acc: 0.9922\n",
      "Epoch 68/70\n",
      "29399/29399 [==============================] - 8s 278us/step - loss: 0.0189 - acc: 0.9943 - val_loss: 0.0261 - val_acc: 0.9922\n",
      "Epoch 69/70\n",
      "29399/29399 [==============================] - 8s 281us/step - loss: 0.0170 - acc: 0.9945 - val_loss: 0.0275 - val_acc: 0.9926\n",
      "Epoch 70/70\n",
      "29399/29399 [==============================] - 8s 280us/step - loss: 0.0167 - acc: 0.9945 - val_loss: 0.0276 - val_acc: 0.9925\n"
     ]
    }
   ],
   "source": [
    "history = model.fit(X_norm, Y, validation_split = 0.3, batch_size = 32, epochs = 70) "
   ]
  },
  {
   "cell_type": "code",
   "execution_count": 13,
   "metadata": {},
   "outputs": [
    {
     "name": "stderr",
     "output_type": "stream",
     "text": [
      "UsageError: unrecognized arguments: # required on jupyter notebook for plotting in each line.\n"
     ]
    }
   ],
   "source": [
    "%matplotlib inline # required on jupyter notebook for plotting in each line."
   ]
  },
  {
   "cell_type": "markdown",
   "metadata": {},
   "source": [
    "PLOTTING ACCURACY CURVE."
   ]
  },
  {
   "cell_type": "code",
   "execution_count": 14,
   "metadata": {},
   "outputs": [
    {
     "data": {
      "image/png": "[encoded data removed]",
      "text/plain": [
       "<Figure size 432x288 with 1 Axes>"
      ]
     },
     "metadata": {
      "needs_background": "light"
     },
     "output_type": "display_data"
    }
   ],
   "source": [
    "plt.plot(history.history['acc'], label = 'train')\n",
    "plt.plot(history.history['val_acc'], label = 'validation')\n",
    "plt.title('Accuracy')\n",
    "plt.xlabel('epoch')\n",
    "plt.ylabel('accuracy')\n",
    "plt.legend(loc = 'lower right')\n",
    "plt.show()"
   ]
  },
  {
   "cell_type": "markdown",
   "metadata": {},
   "source": [
    "PLOTTING LOSS CURVE"
   ]
  },
  {
   "cell_type": "code",
   "execution_count": 15,
   "metadata": {},
   "outputs": [
    {
     "data": {
      "image/png": "[encoded data removed]",
      "text/plain": [
       "<Figure size 432x288 with 1 Axes>"
      ]
     },
     "metadata": {
      "needs_background": "light"
     },
     "output_type": "display_data"
    }
   ],
   "source": [
    "plt.plot(history.history['loss'], label = 'train')\n",
    "plt.plot(history.history['val_loss'], label = 'validation')\n",
    "plt.title('Loss')\n",
    "plt.xlabel('epoch')\n",
    "plt.ylabel('loss')\n",
    "plt.legend(loc = 'upper right')\n",
    "plt.show()"
   ]
  },
  {
   "cell_type": "code",
   "execution_count": null,
   "metadata": {},
   "outputs": [],
   "source": []
  }
 ],
 "metadata": {
  "kernelspec": {
   "display_name": "Python 3",
   "language": "python",
   "name": "python3"
  },
  "language_info": {
   "codemirror_mode": {
    "name": "ipython",
    "version": 3
   },
   "file_extension": ".py",
   "mimetype": "text/x-python",
   "name": "python",
   "nbconvert_exporter": "python",
   "pygments_lexer": "ipython3",
   "version": "3.7.4"
  }
 },
 "nbformat": 4,
 "nbformat_minor": 2
}
